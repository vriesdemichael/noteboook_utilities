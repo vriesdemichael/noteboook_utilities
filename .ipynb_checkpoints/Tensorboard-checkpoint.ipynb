{
 "cells": [
  {
   "cell_type": "markdown",
   "metadata": {},
   "source": [
    "# Start Tensorboard\n",
    "Starts a tensorboard with the given \n",
    "This tensorboard is linked to the cell in this notebook, you can stop tensorboard by interupting the cell in jupyter. (The interrupt kernel button or by pressing 'I' twice)"
   ]
  },
  {
   "cell_type": "code",
   "execution_count": 1,
   "metadata": {},
   "outputs": [],
   "source": [
    "# Set to the specific tensorboard executable in case of multiple environment. If the correct executable is in your path just 'tensorboard' suffices\n",
    "tensorboard_executable = \"path/to/tensorboard.exe\"\n",
    "logdir = \"../logs\""
   ]
  },
  {
   "cell_type": "code",
   "execution_count": null,
   "metadata": {},
   "outputs": [
    {
     "name": "stdout",
     "output_type": "stream",
     "text": [
      "2018-05-24 12:58:09.889905: I T:\\src\\github\\tensorflow\\tensorflow\\core\\platform\\cpu_feature_guard.cc:140] Your CPU supports instructions that this TensorFlow binary was not compiled to use: AVX2\n",
      "2018-05-24 12:58:10.168315: I T:\\src\\github\\tensorflow\\tensorflow\\core\\common_runtime\\gpu\\gpu_device.cc:1356] Found device 0 with properties: \n",
      "name: GeForce GTX 970 major: 5 minor: 2 memoryClockRate(GHz): 1.253\n",
      "pciBusID: 0000:01:00.0\n",
      "totalMemory: 4,00GiB freeMemory: 3,31GiB\n",
      "2018-05-24 12:58:10.168741: I T:\\src\\github\\tensorflow\\tensorflow\\core\\common_runtime\\gpu\\gpu_device.cc:1435] Adding visible gpu devices: 0\n",
      "2018-05-24 12:58:10.545803: I T:\\src\\github\\tensorflow\\tensorflow\\core\\common_runtime\\gpu\\gpu_device.cc:923] Device interconnect StreamExecutor with strength 1 edge matrix:\n",
      "2018-05-24 12:58:10.546109: I T:\\src\\github\\tensorflow\\tensorflow\\core\\common_runtime\\gpu\\gpu_device.cc:929]      0 \n",
      "2018-05-24 12:58:10.546231: I T:\\src\\github\\tensorflow\\tensorflow\\core\\common_runtime\\gpu\\gpu_device.cc:942] 0:   N \n",
      "c:\\users\\michael\\anaconda3\\envs\\deep\\lib\\site-packages\\h5py\\__init__.py:36: FutureWarning: Conversion of the second argument of issubdtype from `float` to `np.floating` is deprecated. In future, it will be treated as `np.float64 == np.dtype(float).type`.\n",
      "  from ._conv import register_converters as _register_converters\n"
     ]
    },
    {
     "data": {
      "text/html": [
       "TensorBoard 1.8.0 at <a href=\"http://michael-desktop:6006 \">http://michael-desktop:6006 </a>(Interrupt kernel to quit)\r\n"
      ],
      "text/plain": [
       "<IPython.core.display.HTML object>"
      ]
     },
     "metadata": {},
     "output_type": "display_data"
    },
    {
     "name": "stdout",
     "output_type": "stream",
     "text": [
      "W0524 12:58:15.812760 Thread-1 core_plugin.py:159] Unable to get first event timestamp for run cifar10-Thu-10.32\n",
      "W0524 12:58:16.467759 Thread-1 core_plugin.py:159] Unable to get first event timestamp for run cifar10-Thu-10.32\n",
      "W0524 12:58:47.447656 Thread-3 core_plugin.py:159] Unable to get first event timestamp for run cifar10-Thu-10.32\n",
      "W0524 12:59:18.446257 Thread-4 core_plugin.py:159] Unable to get first event timestamp for run cifar10-Thu-10.32\n",
      "W0524 12:59:48.446530 Thread-5 core_plugin.py:159] Unable to get first event timestamp for run cifar10-Thu-10.32\n",
      "W0524 13:00:19.446070 Thread-2 core_plugin.py:159] Unable to get first event timestamp for run cifar10-Thu-10.32\n",
      "W0524 13:00:50.446078 Thread-1 core_plugin.py:159] Unable to get first event timestamp for run cifar10-Thu-10.32\n",
      "W0524 13:01:20.447956 Thread-4 core_plugin.py:159] Unable to get first event timestamp for run cifar10-Thu-10.32\n",
      "W0524 13:01:51.445856 Thread-3 core_plugin.py:159] Unable to get first event timestamp for run cifar10-Thu-10.32\n",
      "W0524 13:02:21.446422 Thread-2 core_plugin.py:159] Unable to get first event timestamp for run cifar10-Thu-10.32\n",
      "W0524 13:02:51.457825 Thread-1 core_plugin.py:159] Unable to get first event timestamp for run cifar10-Thu-10.32\n",
      "W0524 13:03:22.445824 Thread-3 core_plugin.py:159] Unable to get first event timestamp for run cifar10-Thu-10.32\n",
      "W0524 13:03:52.447025 Thread-4 core_plugin.py:159] Unable to get first event timestamp for run cifar10-Thu-10.32\n",
      "W0524 13:04:23.447070 Thread-3 core_plugin.py:159] Unable to get first event timestamp for run cifar10-Thu-10.32\n",
      "W0524 13:04:54.446976 Thread-1 core_plugin.py:159] Unable to get first event timestamp for run cifar10-Thu-10.32\n",
      "W0524 13:05:25.446984 Thread-2 core_plugin.py:159] Unable to get first event timestamp for run cifar10-Thu-10.32\n",
      "W0524 13:05:56.444992 Thread-3 core_plugin.py:159] Unable to get first event timestamp for run cifar10-Thu-10.32\n",
      "W0524 13:06:27.445999 Thread-2 core_plugin.py:159] Unable to get first event timestamp for run cifar10-Thu-10.32\n",
      "W0524 13:06:58.447009 Thread-2 core_plugin.py:159] Unable to get first event timestamp for run cifar10-Thu-10.32\n",
      "W0524 13:07:29.446017 Thread-2 core_plugin.py:159] Unable to get first event timestamp for run cifar10-Thu-10.32\n",
      "W0524 13:07:59.446430 Thread-3 core_plugin.py:159] Unable to get first event timestamp for run cifar10-Thu-10.32\n",
      "W0524 13:08:30.445918 Thread-5 core_plugin.py:159] Unable to get first event timestamp for run cifar10-Thu-10.32\n",
      "W0524 13:09:00.446527 Thread-2 core_plugin.py:159] Unable to get first event timestamp for run cifar10-Thu-10.32\n",
      "W0524 13:09:31.446545 Thread-5 core_plugin.py:159] Unable to get first event timestamp for run cifar10-Thu-10.32\n",
      "W0524 13:10:02.446623 Thread-1 core_plugin.py:159] Unable to get first event timestamp for run cifar10-Thu-10.32\n",
      "W0524 13:10:33.446019 Thread-4 core_plugin.py:159] Unable to get first event timestamp for run cifar10-Thu-10.32\n",
      "W0524 13:11:04.445023 Thread-6 core_plugin.py:159] Unable to get first event timestamp for run cifar10-Thu-10.32\n",
      "W0524 13:11:35.446618 Thread-4 core_plugin.py:159] Unable to get first event timestamp for run cifar10-Thu-10.32\n",
      "W0524 13:12:05.448721 Thread-2 core_plugin.py:159] Unable to get first event timestamp for run cifar10-Thu-10.32\n",
      "W0524 13:12:36.445741 Thread-6 core_plugin.py:159] Unable to get first event timestamp for run cifar10-Thu-10.32\n",
      "W0524 13:13:07.445747 Thread-2 core_plugin.py:159] Unable to get first event timestamp for run cifar10-Thu-10.32\n",
      "W0524 13:13:38.446760 Thread-4 core_plugin.py:159] Unable to get first event timestamp for run cifar10-Thu-10.32\n",
      "W0524 13:14:09.446759 Thread-1 core_plugin.py:159] Unable to get first event timestamp for run cifar10-Thu-10.32\n",
      "W0524 13:14:40.445757 Thread-6 core_plugin.py:159] Unable to get first event timestamp for run cifar10-Thu-10.32\n",
      "W0524 13:15:10.447767 Thread-3 core_plugin.py:159] Unable to get first event timestamp for run cifar10-Thu-10.32\n",
      "W0524 13:15:41.446773 Thread-6 core_plugin.py:159] Unable to get first event timestamp for run cifar10-Thu-10.32\n",
      "W0524 13:16:12.445782 Thread-6 core_plugin.py:159] Unable to get first event timestamp for run cifar10-Thu-10.32\n",
      "W0524 13:16:43.445788 Thread-3 core_plugin.py:159] Unable to get first event timestamp for run cifar10-Thu-10.32\n",
      "W0524 13:17:14.445797 Thread-1 core_plugin.py:159] Unable to get first event timestamp for run cifar10-Thu-10.32\n",
      "W0524 13:17:44.447006 Thread-6 core_plugin.py:159] Unable to get first event timestamp for run cifar10-Thu-10.32\n",
      "W0524 13:18:15.448017 Thread-5 core_plugin.py:159] Unable to get first event timestamp for run cifar10-Thu-10.32\n",
      "W0524 13:18:46.446023 Thread-3 core_plugin.py:159] Unable to get first event timestamp for run cifar10-Thu-10.32\n",
      "W0524 13:19:17.446120 Thread-5 core_plugin.py:159] Unable to get first event timestamp for run cifar10-Thu-10.32\n",
      "W0524 13:19:48.448278 Thread-2 core_plugin.py:159] Unable to get first event timestamp for run cifar10-Thu-10.32\n",
      "W0524 13:20:19.445662 Thread-4 core_plugin.py:159] Unable to get first event timestamp for run cifar10-Thu-10.32\n",
      "W0524 13:20:49.445670 Thread-2 core_plugin.py:159] Unable to get first event timestamp for run cifar10-Thu-10.32\n",
      "W0524 13:21:20.446635 Thread-3 core_plugin.py:159] Unable to get first event timestamp for run cifar10-Thu-10.32\n",
      "W0524 13:21:51.446642 Thread-4 core_plugin.py:159] Unable to get first event timestamp for run cifar10-Thu-10.32\n",
      "W0524 13:22:22.445646 Thread-3 core_plugin.py:159] Unable to get first event timestamp for run cifar10-Thu-10.32\n",
      "W0524 13:22:52.446669 Thread-1 core_plugin.py:159] Unable to get first event timestamp for run cifar10-Thu-10.32\n",
      "W0524 13:23:23.446304 Thread-3 core_plugin.py:159] Unable to get first event timestamp for run cifar10-Thu-10.32\n",
      "W0524 13:23:54.447317 Thread-2 core_plugin.py:159] Unable to get first event timestamp for run cifar10-Thu-10.32\n",
      "W0524 13:24:25.446321 Thread-1 core_plugin.py:159] Unable to get first event timestamp for run cifar10-Thu-10.32\n",
      "W0524 13:24:55.447342 Thread-4 core_plugin.py:159] Unable to get first event timestamp for run cifar10-Thu-10.32\n",
      "W0524 13:25:26.448336 Thread-5 core_plugin.py:159] Unable to get first event timestamp for run cifar10-Thu-10.32\n",
      "W0524 13:25:57.445913 Thread-5 core_plugin.py:159] Unable to get first event timestamp for run cifar10-Thu-10.32\n",
      "W0524 13:26:28.443688 Thread-4 core_plugin.py:159] Unable to get first event timestamp for run cifar10-Thu-10.32\n",
      "W0524 13:26:59.445758 Thread-6 core_plugin.py:159] Unable to get first event timestamp for run cifar10-Thu-10.32\n",
      "W0524 13:27:29.446768 Thread-4 core_plugin.py:159] Unable to get first event timestamp for run cifar10-Thu-10.32\n",
      "W0524 13:28:00.445772 Thread-3 core_plugin.py:159] Unable to get first event timestamp for run cifar10-Thu-10.32\n",
      "W0524 13:28:31.445789 Thread-1 core_plugin.py:159] Unable to get first event timestamp for run cifar10-Thu-10.32\n",
      "W0524 13:29:02.445792 Thread-4 core_plugin.py:159] Unable to get first event timestamp for run cifar10-Thu-10.32\n",
      "W0524 13:29:33.446796 Thread-5 core_plugin.py:159] Unable to get first event timestamp for run cifar10-Thu-10.32\n",
      "W0524 13:30:04.446031 Thread-2 core_plugin.py:159] Unable to get first event timestamp for run cifar10-Thu-10.32\n",
      "W0524 13:30:34.442952 Thread-1 core_plugin.py:159] Unable to get first event timestamp for run cifar10-Thu-10.32\n",
      "W0524 13:31:05.444221 Thread-5 core_plugin.py:159] Unable to get first event timestamp for run cifar10-Thu-10.32\n",
      "W0524 13:31:35.442681 Thread-4 core_plugin.py:159] Unable to get first event timestamp for run cifar10-Thu-10.32\n",
      "W0524 13:32:06.446121 Thread-4 core_plugin.py:159] Unable to get first event timestamp for run cifar10-Thu-10.32\n",
      "W0524 13:32:37.447129 Thread-3 core_plugin.py:159] Unable to get first event timestamp for run cifar10-Thu-10.32\n",
      "W0524 13:33:08.446521 Thread-1 core_plugin.py:159] Unable to get first event timestamp for run cifar10-Thu-10.32\n",
      "W0524 13:33:39.446975 Thread-2 core_plugin.py:159] Unable to get first event timestamp for run cifar10-Thu-10.32\n",
      "W0524 13:34:09.447080 Thread-3 core_plugin.py:159] Unable to get first event timestamp for run cifar10-Thu-10.32\n",
      "W0524 13:34:40.445839 Thread-6 core_plugin.py:159] Unable to get first event timestamp for run cifar10-Thu-10.32\n",
      "W0524 13:35:11.447862 Thread-1 core_plugin.py:159] Unable to get first event timestamp for run cifar10-Thu-10.32\n",
      "W0524 13:35:42.445855 Thread-5 core_plugin.py:159] Unable to get first event timestamp for run cifar10-Thu-10.32\n",
      "W0524 13:36:12.448562 Thread-1 core_plugin.py:159] Unable to get first event timestamp for run cifar10-Thu-10.32\n",
      "W0524 13:36:43.447469 Thread-6 core_plugin.py:159] Unable to get first event timestamp for run cifar10-Thu-10.32\n",
      "W0524 13:37:14.449002 Thread-5 core_plugin.py:159] Unable to get first event timestamp for run cifar10-Thu-10.32\n",
      "W0524 13:37:45.445263 Thread-5 core_plugin.py:159] Unable to get first event timestamp for run cifar10-Thu-10.32\n",
      "W0524 13:38:16.442337 Thread-1 core_plugin.py:159] Unable to get first event timestamp for run cifar10-Thu-10.32\n",
      "W0524 13:38:46.451278 Thread-4 core_plugin.py:159] Unable to get first event timestamp for run cifar10-Thu-10.32\n",
      "W0524 13:39:16.449590 Thread-1 core_plugin.py:159] Unable to get first event timestamp for run cifar10-Thu-10.32\n",
      "W0524 13:39:47.446257 Thread-6 core_plugin.py:159] Unable to get first event timestamp for run cifar10-Thu-10.32\n"
     ]
    }
   ],
   "source": [
    "import subprocess\n",
    "import sys\n",
    "import os\n",
    "import time\n",
    "from queue import Queue, Empty\n",
    "from threading  import Thread\n",
    "import re\n",
    "from IPython.core.display import display, HTML\n",
    "\n",
    "\n",
    "def output_listen(out):\n",
    "    for line in out:\n",
    "        dec_line = line.decode('ascii')\n",
    "        links = re.findall(\"http://\\S+\\s\", dec_line)\n",
    "        if len(links) is not 0:\n",
    "            display(HTML(dec_line\n",
    "                         .replace(links[0], \"<a href=\\\"{l}\\\">{l}</a>\".format(l=links[0]))\n",
    "                         .replace(\"Press CTRL+C\", \"Interrupt kernel\")\n",
    "                        ))\n",
    "        else:\n",
    "            print(dec_line, end='')\n",
    "    out.close()\n",
    "\n",
    "cmd = \"{tb} --logdir={log}\".format(tb=tensorboard_executable, log=os.path.abspath(logdir))\n",
    "proc = subprocess.Popen(cmd, stdout=subprocess.PIPE, stderr=subprocess.STDOUT)\n",
    "t = Thread(target=output_listen, args=(proc.stdout,))\n",
    "t.daemon = True\n",
    "t.start()\n",
    "\n",
    "try:\n",
    "    while True:\n",
    "        time.sleep(1)\n",
    "except KeyboardInterrupt:\n",
    "    print(\"\\n\\nKernel interrupted, killing tensorboard.\")\n",
    "    proc.terminate()\n",
    "    proc.wait()\n",
    "    print(\"Tensorboard is terminated.\")\n"
   ]
  },
  {
   "cell_type": "markdown",
   "metadata": {},
   "source": [
    "# Kill existing instances\n",
    "In case tensorboard does not start or gives unexpected results try to kill all dangling processes started by 'tensorboard.exe' and start tensorboard using this script again."
   ]
  },
  {
   "cell_type": "code",
   "execution_count": 1,
   "metadata": {},
   "outputs": [
    {
     "name": "stderr",
     "output_type": "stream",
     "text": [
      "ERROR: The process \"tensorboard.exe\" not found.\n"
     ]
    }
   ],
   "source": [
    "!taskkill /F /IM tensorboard.exe /T"
   ]
  }
 ],
 "metadata": {
  "kernelspec": {
   "display_name": "Python 3",
   "language": "python",
   "name": "python3"
  },
  "language_info": {
   "codemirror_mode": {
    "name": "ipython",
    "version": 3
   },
   "file_extension": ".py",
   "mimetype": "text/x-python",
   "name": "python",
   "nbconvert_exporter": "python",
   "pygments_lexer": "ipython3",
   "version": "3.6.5"
  }
 },
 "nbformat": 4,
 "nbformat_minor": 2
}
