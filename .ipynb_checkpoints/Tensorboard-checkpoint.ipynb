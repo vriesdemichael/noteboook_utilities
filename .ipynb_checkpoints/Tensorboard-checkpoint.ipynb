{
 "cells": [
  {
   "cell_type": "markdown",
   "metadata": {},
   "source": [
    "# Start Tensorboard\n",
    "It can be reached from this [remote location](http://thuis:16006) or [locally](http://localhost:6006) or. \n",
    "This tensorboard is linked to the cell in this notebook, you can stop tensorboard by interupting the cell in jupyter. (The interrupt kernel button or by pressing 'I' twice)"
   ]
  },
  {
   "cell_type": "code",
   "execution_count": 6,
   "metadata": {},
   "outputs": [
    {
     "name": "stdout",
     "output_type": "stream",
     "text": [
      "2018-05-24 12:51:25.093964: I T:\\src\\github\\tensorflow\\tensorflow\\core\\platform\\cpu_feature_guard.cc:140] Your CPU supports instructions that this TensorFlow binary was not compiled to use: AVX2\n",
      "2018-05-24 12:51:25.423251: I T:\\src\\github\\tensorflow\\tensorflow\\core\\common_runtime\\gpu\\gpu_device.cc:1356] Found device 0 with properties: \n",
      "name: GeForce GTX 970 major: 5 minor: 2 memoryClockRate(GHz): 1.253\n",
      "pciBusID: 0000:01:00.0\n",
      "totalMemory: 4,00GiB freeMemory: 3,31GiB\n",
      "2018-05-24 12:51:25.423727: I T:\\src\\github\\tensorflow\\tensorflow\\core\\common_runtime\\gpu\\gpu_device.cc:1435] Adding visible gpu devices: 0\n",
      "2018-05-24 12:51:25.831773: I T:\\src\\github\\tensorflow\\tensorflow\\core\\common_runtime\\gpu\\gpu_device.cc:923] Device interconnect StreamExecutor with strength 1 edge matrix:\n",
      "2018-05-24 12:51:25.832141: I T:\\src\\github\\tensorflow\\tensorflow\\core\\common_runtime\\gpu\\gpu_device.cc:929]      0 \n",
      "2018-05-24 12:51:25.832372: I T:\\src\\github\\tensorflow\\tensorflow\\core\\common_runtime\\gpu\\gpu_device.cc:942] 0:   N \n",
      "c:\\users\\michael\\anaconda3\\envs\\deep\\lib\\site-packages\\h5py\\__init__.py:36: FutureWarning: Conversion of the second argument of issubdtype from `float` to `np.floating` is deprecated. In future, it will be treated as `np.float64 == np.dtype(float).type`.\n",
      "  from ._conv import register_converters as _register_converters\n"
     ]
    },
    {
     "data": {
      "text/html": [
       "TensorBoard 1.8.0 at <a href=\"http://michael-desktop:6006 \">http://michael-desktop:6006 </a>(Interrupt kernel to quit)\r\n"
      ],
      "text/plain": [
       "<IPython.core.display.HTML object>"
      ]
     },
     "metadata": {},
     "output_type": "display_data"
    },
    {
     "name": "stdout",
     "output_type": "stream",
     "text": [
      "Caught SIGINT, killing tensorboard.\n",
      "Tensorboard is terminated.\n"
     ]
    }
   ],
   "source": [
    "import subprocess\n",
    "import sys\n",
    "import os\n",
    "import time\n",
    "from queue import Queue, Empty\n",
    "from threading  import Thread\n",
    "import re\n",
    "from IPython.core.display import display, HTML\n",
    "\n",
    "\n",
    "# Set to the specific tensorboard executable in case of multiple environment. If the correct executable is in your path just 'tensorboard' suffices\n",
    "tensorboard_executable = \"C:/Users/michael/Anaconda3/envs/deep/Scripts/tensorboard\"\n",
    "logdir = \"C:/users/michael/Workspaces/Notebooks/logs\"\n",
    "\n",
    "\n",
    "def output_listen(out):\n",
    "    for line in out:\n",
    "        dec_line = line.decode('ascii')\n",
    "        links = re.findall(\"http://\\S+\\s\", dec_line)\n",
    "        if len(links) is not 0:\n",
    "            display(HTML(dec_line\n",
    "                         .replace(links[0], \"<a href=\\\"{l}\\\">{l}</a>\".format(l=links[0]))\n",
    "                         .replace(\"Press CTRL+C\", \"Interrupt kernel\")\n",
    "                        ))\n",
    "        else:\n",
    "            print(dec_line, end='')\n",
    "    out.close()\n",
    "\n",
    "cmd = \"{tb} --logdir={log}\".format(tb=tensorboard_executable, log=os.path.abspath(logdir))\n",
    "proc = subprocess.Popen(cmd, stdout=subprocess.PIPE, stderr=subprocess.STDOUT)\n",
    "t = Thread(target=output_listen, args=(proc.stdout,))\n",
    "t.daemon = True\n",
    "t.start()\n",
    "\n",
    "try:\n",
    "    while True:\n",
    "        time.sleep(1)\n",
    "except KeyboardInterrupt:\n",
    "    print(\"Kernel interrupted, killing tensorboard.\")\n",
    "    proc.terminate()\n",
    "    proc.wait()\n",
    "    print(\"Tensorboard is terminated.\")\n"
   ]
  },
  {
   "cell_type": "markdown",
   "metadata": {},
   "source": [
    "# Kill existing instances\n",
    "In case tensorboard does not start or gives unexpected results try to kill all dangling processes started by 'tensorboard.exe'. "
   ]
  },
  {
   "cell_type": "code",
   "execution_count": 1,
   "metadata": {},
   "outputs": [
    {
     "name": "stderr",
     "output_type": "stream",
     "text": [
      "ERROR: The process \"tensorboard.exe\" not found.\n"
     ]
    }
   ],
   "source": [
    "!taskkill /F /IM tensorboard.exe /T"
   ]
  },
  {
   "cell_type": "code",
   "execution_count": null,
   "metadata": {},
   "outputs": [],
   "source": []
  }
 ],
 "metadata": {
  "kernelspec": {
   "display_name": "Python 3",
   "language": "python",
   "name": "python3"
  },
  "language_info": {
   "codemirror_mode": {
    "name": "ipython",
    "version": 3
   },
   "file_extension": ".py",
   "mimetype": "text/x-python",
   "name": "python",
   "nbconvert_exporter": "python",
   "pygments_lexer": "ipython3",
   "version": "3.6.5"
  }
 },
 "nbformat": 4,
 "nbformat_minor": 2
}
