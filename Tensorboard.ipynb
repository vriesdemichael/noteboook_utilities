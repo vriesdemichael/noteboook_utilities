{
 "cells": [
  {
   "cell_type": "markdown",
   "metadata": {},
   "source": [
    "# Start Tensorboard\n",
    "Starts a tensorboard with the given \n",
    "This tensorboard is linked to the cell in this notebook, you can stop tensorboard by interupting the cell in jupyter. (The interrupt kernel button or by pressing 'I' twice)"
   ]
  },
  {
   "cell_type": "code",
   "execution_count": 1,
   "metadata": {},
   "outputs": [],
   "source": [
    "# Set to the specific tensorboard executable in case of multiple environment. If the correct executable is in your path just 'tensorboard' suffices\n",
    "tensorboard_executable = \"C:/Users/michael/Anaconda3/envs/deep/Scripts/tensorboard\"\n",
    "logdir = \"../logs\""
   ]
  },
  {
   "cell_type": "code",
   "execution_count": null,
   "metadata": {},
   "outputs": [],
   "source": [
    "import subprocess\n",
    "import sys\n",
    "import os\n",
    "import time\n",
    "from queue import Queue, Empty\n",
    "from threading  import Thread\n",
    "import re\n",
    "from IPython.core.display import display, HTML\n",
    "\n",
    "\n",
    "def output_listen(out):\n",
    "    for line in out:\n",
    "        dec_line = line.decode('ascii')\n",
    "        links = re.findall(\"http://\\S+\\s\", dec_line)\n",
    "        if len(links) is not 0:\n",
    "            display(HTML(dec_line\n",
    "                         .replace(links[0], \"<a href=\\\"{l}\\\">{l}</a>\".format(l=links[0]))\n",
    "                         .replace(\"Press CTRL+C\", \"Interrupt kernel\")\n",
    "                        ))\n",
    "        else:\n",
    "            print(dec_line, end='')\n",
    "    out.close()\n",
    "\n",
    "cmd = \"{tb} --logdir={log}\".format(tb=tensorboard_executable, log=os.path.abspath(logdir))\n",
    "proc = subprocess.Popen(cmd, stdout=subprocess.PIPE, stderr=subprocess.STDOUT)\n",
    "t = Thread(target=output_listen, args=(proc.stdout,))\n",
    "t.daemon = True\n",
    "t.start()\n",
    "\n",
    "try:\n",
    "    while True:\n",
    "        time.sleep(1)\n",
    "except KeyboardInterrupt:\n",
    "    print(\"\\n\\nKernel interrupted, killing tensorboard.\")\n",
    "    proc.terminate()\n",
    "    proc.wait()\n",
    "    print(\"Tensorboard is terminated.\")\n"
   ]
  },
  {
   "cell_type": "markdown",
   "metadata": {},
   "source": [
    "# Kill existing instances\n",
    "In case tensorboard does not start or gives unexpected results try to kill all dangling processes started by 'tensorboard.exe' and start tensorboard using this script again."
   ]
  },
  {
   "cell_type": "code",
   "execution_count": null,
   "metadata": {},
   "outputs": [],
   "source": [
    "!taskkill /F /IM tensorboard.exe /T"
   ]
  },
  {
   "cell_type": "code",
   "execution_count": null,
   "metadata": {},
   "outputs": [],
   "source": []
  }
 ],
 "metadata": {
  "kernelspec": {
   "display_name": "Python 3",
   "language": "python",
   "name": "python3"
  },
  "language_info": {
   "codemirror_mode": {
    "name": "ipython",
    "version": 3
   },
   "file_extension": ".py",
   "mimetype": "text/x-python",
   "name": "python",
   "nbconvert_exporter": "python",
   "pygments_lexer": "ipython3",
   "version": "3.6.5"
  }
 },
 "nbformat": 4,
 "nbformat_minor": 2
}
